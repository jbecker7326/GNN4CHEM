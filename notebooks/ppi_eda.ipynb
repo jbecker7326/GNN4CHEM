{
 "cells": [
  {
   "cell_type": "markdown",
   "id": "cda89226",
   "metadata": {},
   "source": [
    "## EDA"
   ]
  },
  {
   "cell_type": "code",
   "execution_count": 1,
   "id": "9ef9ce0b",
   "metadata": {
    "ExecuteTime": {
     "end_time": "2023-07-03T18:21:45.437787Z",
     "start_time": "2023-07-03T18:21:45.434342Z"
    }
   },
   "outputs": [],
   "source": [
    "# PYTORCH data loading\n",
    "# import torch\n",
    "# from models import GNN_my_model\n",
    "# from torch_geometric.loader import DataLoader\n",
    "\n",
    "# dataset = GNN_my_model.PPI(root=\"./data\")\n",
    "# dataset = dataset.shuffle()\n",
    "# test_dataset = dataset[:2]\n",
    "# train_dataset = dataset[2:]\n",
    "\n",
    "# train_loader = DataLoader(train_dataset, batch_size=8, shuffle=True)\n",
    "# for b in train_loader:\n",
    "#     print(b)"
   ]
  },
  {
   "cell_type": "code",
   "execution_count": 2,
   "id": "11e9f49f",
   "metadata": {
    "ExecuteTime": {
     "end_time": "2023-07-03T18:21:46.179019Z",
     "start_time": "2023-07-03T18:21:45.442972Z"
    }
   },
   "outputs": [],
   "source": [
    "import json\n",
    "import matplotlib.pyplot as plt\n",
    "import pandas as pd\n",
    "import numpy as np\n",
    "import networkx as nx"
   ]
  },
  {
   "cell_type": "code",
   "execution_count": 3,
   "id": "1669b2c4",
   "metadata": {
    "ExecuteTime": {
     "end_time": "2023-07-03T18:21:46.858617Z",
     "start_time": "2023-07-03T18:21:46.179870Z"
    }
   },
   "outputs": [],
   "source": [
    "with open('ppi/ppi-class_map.json') as f:\n",
    "    cm = json.load(f)\n",
    "    \n",
    "with open('ppi/ppi-G.json') as f:\n",
    "    g = json.load(f)"
   ]
  },
  {
   "cell_type": "markdown",
   "id": "8a78a10f",
   "metadata": {},
   "source": [
    "## Labels"
   ]
  },
  {
   "cell_type": "code",
   "execution_count": 4,
   "id": "901f13a4",
   "metadata": {
    "ExecuteTime": {
     "end_time": "2023-07-03T18:21:48.137755Z",
     "start_time": "2023-07-03T18:21:46.879050Z"
    }
   },
   "outputs": [],
   "source": [
    "classes = pd.DataFrame(cm).T\n",
    "classes.index = classes.index.astype(int)\n",
    "classes.sort_index(inplace=True)"
   ]
  },
  {
   "cell_type": "code",
   "execution_count": 5,
   "id": "419e2455",
   "metadata": {
    "ExecuteTime": {
     "end_time": "2023-07-03T18:21:48.155847Z",
     "start_time": "2023-07-03T18:21:48.138650Z"
    }
   },
   "outputs": [
    {
     "data": {
      "text/html": [
       "<div>\n",
       "<style scoped>\n",
       "    .dataframe tbody tr th:only-of-type {\n",
       "        vertical-align: middle;\n",
       "    }\n",
       "\n",
       "    .dataframe tbody tr th {\n",
       "        vertical-align: top;\n",
       "    }\n",
       "\n",
       "    .dataframe thead th {\n",
       "        text-align: right;\n",
       "    }\n",
       "</style>\n",
       "<table border=\"1\" class=\"dataframe\">\n",
       "  <thead>\n",
       "    <tr style=\"text-align: right;\">\n",
       "      <th></th>\n",
       "      <th>0</th>\n",
       "      <th>1</th>\n",
       "      <th>2</th>\n",
       "      <th>3</th>\n",
       "      <th>4</th>\n",
       "      <th>5</th>\n",
       "      <th>6</th>\n",
       "      <th>7</th>\n",
       "      <th>8</th>\n",
       "      <th>9</th>\n",
       "      <th>...</th>\n",
       "      <th>111</th>\n",
       "      <th>112</th>\n",
       "      <th>113</th>\n",
       "      <th>114</th>\n",
       "      <th>115</th>\n",
       "      <th>116</th>\n",
       "      <th>117</th>\n",
       "      <th>118</th>\n",
       "      <th>119</th>\n",
       "      <th>120</th>\n",
       "    </tr>\n",
       "  </thead>\n",
       "  <tbody>\n",
       "    <tr>\n",
       "      <th>0</th>\n",
       "      <td>1</td>\n",
       "      <td>0</td>\n",
       "      <td>0</td>\n",
       "      <td>0</td>\n",
       "      <td>0</td>\n",
       "      <td>0</td>\n",
       "      <td>0</td>\n",
       "      <td>0</td>\n",
       "      <td>0</td>\n",
       "      <td>1</td>\n",
       "      <td>...</td>\n",
       "      <td>0</td>\n",
       "      <td>0</td>\n",
       "      <td>0</td>\n",
       "      <td>0</td>\n",
       "      <td>1</td>\n",
       "      <td>1</td>\n",
       "      <td>1</td>\n",
       "      <td>1</td>\n",
       "      <td>1</td>\n",
       "      <td>0</td>\n",
       "    </tr>\n",
       "    <tr>\n",
       "      <th>1</th>\n",
       "      <td>1</td>\n",
       "      <td>0</td>\n",
       "      <td>0</td>\n",
       "      <td>0</td>\n",
       "      <td>0</td>\n",
       "      <td>0</td>\n",
       "      <td>0</td>\n",
       "      <td>1</td>\n",
       "      <td>0</td>\n",
       "      <td>1</td>\n",
       "      <td>...</td>\n",
       "      <td>1</td>\n",
       "      <td>1</td>\n",
       "      <td>1</td>\n",
       "      <td>0</td>\n",
       "      <td>1</td>\n",
       "      <td>1</td>\n",
       "      <td>1</td>\n",
       "      <td>1</td>\n",
       "      <td>1</td>\n",
       "      <td>1</td>\n",
       "    </tr>\n",
       "    <tr>\n",
       "      <th>2</th>\n",
       "      <td>1</td>\n",
       "      <td>1</td>\n",
       "      <td>1</td>\n",
       "      <td>0</td>\n",
       "      <td>0</td>\n",
       "      <td>0</td>\n",
       "      <td>0</td>\n",
       "      <td>0</td>\n",
       "      <td>0</td>\n",
       "      <td>0</td>\n",
       "      <td>...</td>\n",
       "      <td>0</td>\n",
       "      <td>0</td>\n",
       "      <td>0</td>\n",
       "      <td>0</td>\n",
       "      <td>0</td>\n",
       "      <td>1</td>\n",
       "      <td>0</td>\n",
       "      <td>0</td>\n",
       "      <td>0</td>\n",
       "      <td>0</td>\n",
       "    </tr>\n",
       "    <tr>\n",
       "      <th>3</th>\n",
       "      <td>1</td>\n",
       "      <td>0</td>\n",
       "      <td>0</td>\n",
       "      <td>0</td>\n",
       "      <td>0</td>\n",
       "      <td>0</td>\n",
       "      <td>0</td>\n",
       "      <td>0</td>\n",
       "      <td>0</td>\n",
       "      <td>1</td>\n",
       "      <td>...</td>\n",
       "      <td>0</td>\n",
       "      <td>1</td>\n",
       "      <td>0</td>\n",
       "      <td>1</td>\n",
       "      <td>1</td>\n",
       "      <td>1</td>\n",
       "      <td>1</td>\n",
       "      <td>1</td>\n",
       "      <td>0</td>\n",
       "      <td>0</td>\n",
       "    </tr>\n",
       "    <tr>\n",
       "      <th>4</th>\n",
       "      <td>1</td>\n",
       "      <td>0</td>\n",
       "      <td>0</td>\n",
       "      <td>0</td>\n",
       "      <td>0</td>\n",
       "      <td>0</td>\n",
       "      <td>0</td>\n",
       "      <td>1</td>\n",
       "      <td>1</td>\n",
       "      <td>1</td>\n",
       "      <td>...</td>\n",
       "      <td>0</td>\n",
       "      <td>1</td>\n",
       "      <td>1</td>\n",
       "      <td>1</td>\n",
       "      <td>1</td>\n",
       "      <td>1</td>\n",
       "      <td>1</td>\n",
       "      <td>1</td>\n",
       "      <td>0</td>\n",
       "      <td>1</td>\n",
       "    </tr>\n",
       "    <tr>\n",
       "      <th>...</th>\n",
       "      <td>...</td>\n",
       "      <td>...</td>\n",
       "      <td>...</td>\n",
       "      <td>...</td>\n",
       "      <td>...</td>\n",
       "      <td>...</td>\n",
       "      <td>...</td>\n",
       "      <td>...</td>\n",
       "      <td>...</td>\n",
       "      <td>...</td>\n",
       "      <td>...</td>\n",
       "      <td>...</td>\n",
       "      <td>...</td>\n",
       "      <td>...</td>\n",
       "      <td>...</td>\n",
       "      <td>...</td>\n",
       "      <td>...</td>\n",
       "      <td>...</td>\n",
       "      <td>...</td>\n",
       "      <td>...</td>\n",
       "      <td>...</td>\n",
       "    </tr>\n",
       "    <tr>\n",
       "      <th>56939</th>\n",
       "      <td>1</td>\n",
       "      <td>0</td>\n",
       "      <td>1</td>\n",
       "      <td>1</td>\n",
       "      <td>1</td>\n",
       "      <td>1</td>\n",
       "      <td>1</td>\n",
       "      <td>0</td>\n",
       "      <td>0</td>\n",
       "      <td>0</td>\n",
       "      <td>...</td>\n",
       "      <td>0</td>\n",
       "      <td>0</td>\n",
       "      <td>0</td>\n",
       "      <td>0</td>\n",
       "      <td>0</td>\n",
       "      <td>1</td>\n",
       "      <td>1</td>\n",
       "      <td>1</td>\n",
       "      <td>1</td>\n",
       "      <td>0</td>\n",
       "    </tr>\n",
       "    <tr>\n",
       "      <th>56940</th>\n",
       "      <td>1</td>\n",
       "      <td>0</td>\n",
       "      <td>0</td>\n",
       "      <td>0</td>\n",
       "      <td>0</td>\n",
       "      <td>0</td>\n",
       "      <td>0</td>\n",
       "      <td>1</td>\n",
       "      <td>0</td>\n",
       "      <td>0</td>\n",
       "      <td>...</td>\n",
       "      <td>0</td>\n",
       "      <td>0</td>\n",
       "      <td>0</td>\n",
       "      <td>1</td>\n",
       "      <td>1</td>\n",
       "      <td>1</td>\n",
       "      <td>1</td>\n",
       "      <td>1</td>\n",
       "      <td>1</td>\n",
       "      <td>0</td>\n",
       "    </tr>\n",
       "    <tr>\n",
       "      <th>56941</th>\n",
       "      <td>1</td>\n",
       "      <td>1</td>\n",
       "      <td>0</td>\n",
       "      <td>0</td>\n",
       "      <td>0</td>\n",
       "      <td>0</td>\n",
       "      <td>0</td>\n",
       "      <td>1</td>\n",
       "      <td>0</td>\n",
       "      <td>1</td>\n",
       "      <td>...</td>\n",
       "      <td>0</td>\n",
       "      <td>0</td>\n",
       "      <td>0</td>\n",
       "      <td>0</td>\n",
       "      <td>0</td>\n",
       "      <td>1</td>\n",
       "      <td>1</td>\n",
       "      <td>1</td>\n",
       "      <td>1</td>\n",
       "      <td>0</td>\n",
       "    </tr>\n",
       "    <tr>\n",
       "      <th>56942</th>\n",
       "      <td>1</td>\n",
       "      <td>0</td>\n",
       "      <td>0</td>\n",
       "      <td>0</td>\n",
       "      <td>0</td>\n",
       "      <td>0</td>\n",
       "      <td>0</td>\n",
       "      <td>0</td>\n",
       "      <td>0</td>\n",
       "      <td>1</td>\n",
       "      <td>...</td>\n",
       "      <td>0</td>\n",
       "      <td>1</td>\n",
       "      <td>1</td>\n",
       "      <td>1</td>\n",
       "      <td>1</td>\n",
       "      <td>1</td>\n",
       "      <td>1</td>\n",
       "      <td>1</td>\n",
       "      <td>1</td>\n",
       "      <td>1</td>\n",
       "    </tr>\n",
       "    <tr>\n",
       "      <th>56943</th>\n",
       "      <td>1</td>\n",
       "      <td>1</td>\n",
       "      <td>0</td>\n",
       "      <td>0</td>\n",
       "      <td>0</td>\n",
       "      <td>0</td>\n",
       "      <td>0</td>\n",
       "      <td>1</td>\n",
       "      <td>0</td>\n",
       "      <td>0</td>\n",
       "      <td>...</td>\n",
       "      <td>0</td>\n",
       "      <td>0</td>\n",
       "      <td>0</td>\n",
       "      <td>0</td>\n",
       "      <td>0</td>\n",
       "      <td>1</td>\n",
       "      <td>1</td>\n",
       "      <td>1</td>\n",
       "      <td>1</td>\n",
       "      <td>0</td>\n",
       "    </tr>\n",
       "  </tbody>\n",
       "</table>\n",
       "<p>56944 rows × 121 columns</p>\n",
       "</div>"
      ],
      "text/plain": [
       "       0    1    2    3    4    5    6    7    8    9    ...  111  112  113  \\\n",
       "0        1    0    0    0    0    0    0    0    0    1  ...    0    0    0   \n",
       "1        1    0    0    0    0    0    0    1    0    1  ...    1    1    1   \n",
       "2        1    1    1    0    0    0    0    0    0    0  ...    0    0    0   \n",
       "3        1    0    0    0    0    0    0    0    0    1  ...    0    1    0   \n",
       "4        1    0    0    0    0    0    0    1    1    1  ...    0    1    1   \n",
       "...    ...  ...  ...  ...  ...  ...  ...  ...  ...  ...  ...  ...  ...  ...   \n",
       "56939    1    0    1    1    1    1    1    0    0    0  ...    0    0    0   \n",
       "56940    1    0    0    0    0    0    0    1    0    0  ...    0    0    0   \n",
       "56941    1    1    0    0    0    0    0    1    0    1  ...    0    0    0   \n",
       "56942    1    0    0    0    0    0    0    0    0    1  ...    0    1    1   \n",
       "56943    1    1    0    0    0    0    0    1    0    0  ...    0    0    0   \n",
       "\n",
       "       114  115  116  117  118  119  120  \n",
       "0        0    1    1    1    1    1    0  \n",
       "1        0    1    1    1    1    1    1  \n",
       "2        0    0    1    0    0    0    0  \n",
       "3        1    1    1    1    1    0    0  \n",
       "4        1    1    1    1    1    0    1  \n",
       "...    ...  ...  ...  ...  ...  ...  ...  \n",
       "56939    0    0    1    1    1    1    0  \n",
       "56940    1    1    1    1    1    1    0  \n",
       "56941    0    0    1    1    1    1    0  \n",
       "56942    1    1    1    1    1    1    1  \n",
       "56943    0    0    1    1    1    1    0  \n",
       "\n",
       "[56944 rows x 121 columns]"
      ]
     },
     "execution_count": 5,
     "metadata": {},
     "output_type": "execute_result"
    }
   ],
   "source": [
    "classes"
   ]
  },
  {
   "cell_type": "code",
   "execution_count": 6,
   "id": "0cab9a04",
   "metadata": {
    "ExecuteTime": {
     "end_time": "2023-07-03T18:21:48.307585Z",
     "start_time": "2023-07-03T18:21:48.156707Z"
    }
   },
   "outputs": [
    {
     "data": {
      "image/png": "[encoded data removed]",
      "text/plain": [
       "<Figure size 640x480 with 1 Axes>"
      ]
     },
     "metadata": {},
     "output_type": "display_data"
    }
   ],
   "source": [
    "plt.hist(classes.sum(axis=1).tolist(), bins=30)\n",
    "plt.title('Distribution of Category_val=1 For 56944 Nodes with 121 Categories');"
   ]
  },
  {
   "cell_type": "code",
   "execution_count": 7,
   "id": "a7cc5a93",
   "metadata": {
    "ExecuteTime": {
     "end_time": "2023-07-03T18:21:48.316540Z",
     "start_time": "2023-07-03T18:21:48.308924Z"
    }
   },
   "outputs": [
    {
     "name": "stdout",
     "output_type": "stream",
     "text": [
      "36.92696333239674\n",
      "34.0\n"
     ]
    }
   ],
   "source": [
    "print(classes.sum(axis=1).mean())\n",
    "print(classes.sum(axis=1).median())"
   ]
  },
  {
   "cell_type": "code",
   "execution_count": 8,
   "id": "2d147c34",
   "metadata": {
    "ExecuteTime": {
     "end_time": "2023-07-03T18:21:48.342695Z",
     "start_time": "2023-07-03T18:21:48.317807Z"
    }
   },
   "outputs": [],
   "source": [
    "g_nodes = pd.DataFrame(g['nodes'])"
   ]
  },
  {
   "cell_type": "code",
   "execution_count": 9,
   "id": "035d8ac4",
   "metadata": {
    "ExecuteTime": {
     "end_time": "2023-07-03T18:21:48.348548Z",
     "start_time": "2023-07-03T18:21:48.343542Z"
    }
   },
   "outputs": [
    {
     "data": {
      "text/html": [
       "<div>\n",
       "<style scoped>\n",
       "    .dataframe tbody tr th:only-of-type {\n",
       "        vertical-align: middle;\n",
       "    }\n",
       "\n",
       "    .dataframe tbody tr th {\n",
       "        vertical-align: top;\n",
       "    }\n",
       "\n",
       "    .dataframe thead th {\n",
       "        text-align: right;\n",
       "    }\n",
       "</style>\n",
       "<table border=\"1\" class=\"dataframe\">\n",
       "  <thead>\n",
       "    <tr style=\"text-align: right;\">\n",
       "      <th></th>\n",
       "      <th>test</th>\n",
       "      <th>id</th>\n",
       "      <th>val</th>\n",
       "    </tr>\n",
       "  </thead>\n",
       "  <tbody>\n",
       "    <tr>\n",
       "      <th>0</th>\n",
       "      <td>False</td>\n",
       "      <td>0</td>\n",
       "      <td>False</td>\n",
       "    </tr>\n",
       "    <tr>\n",
       "      <th>1</th>\n",
       "      <td>False</td>\n",
       "      <td>1</td>\n",
       "      <td>False</td>\n",
       "    </tr>\n",
       "    <tr>\n",
       "      <th>2</th>\n",
       "      <td>False</td>\n",
       "      <td>2</td>\n",
       "      <td>False</td>\n",
       "    </tr>\n",
       "    <tr>\n",
       "      <th>3</th>\n",
       "      <td>False</td>\n",
       "      <td>3</td>\n",
       "      <td>False</td>\n",
       "    </tr>\n",
       "    <tr>\n",
       "      <th>4</th>\n",
       "      <td>False</td>\n",
       "      <td>4</td>\n",
       "      <td>False</td>\n",
       "    </tr>\n",
       "    <tr>\n",
       "      <th>...</th>\n",
       "      <td>...</td>\n",
       "      <td>...</td>\n",
       "      <td>...</td>\n",
       "    </tr>\n",
       "    <tr>\n",
       "      <th>56939</th>\n",
       "      <td>True</td>\n",
       "      <td>56939</td>\n",
       "      <td>False</td>\n",
       "    </tr>\n",
       "    <tr>\n",
       "      <th>56940</th>\n",
       "      <td>True</td>\n",
       "      <td>56940</td>\n",
       "      <td>False</td>\n",
       "    </tr>\n",
       "    <tr>\n",
       "      <th>56941</th>\n",
       "      <td>True</td>\n",
       "      <td>56941</td>\n",
       "      <td>False</td>\n",
       "    </tr>\n",
       "    <tr>\n",
       "      <th>56942</th>\n",
       "      <td>True</td>\n",
       "      <td>56942</td>\n",
       "      <td>False</td>\n",
       "    </tr>\n",
       "    <tr>\n",
       "      <th>56943</th>\n",
       "      <td>True</td>\n",
       "      <td>56943</td>\n",
       "      <td>False</td>\n",
       "    </tr>\n",
       "  </tbody>\n",
       "</table>\n",
       "<p>56944 rows × 3 columns</p>\n",
       "</div>"
      ],
      "text/plain": [
       "        test     id    val\n",
       "0      False      0  False\n",
       "1      False      1  False\n",
       "2      False      2  False\n",
       "3      False      3  False\n",
       "4      False      4  False\n",
       "...      ...    ...    ...\n",
       "56939   True  56939  False\n",
       "56940   True  56940  False\n",
       "56941   True  56941  False\n",
       "56942   True  56942  False\n",
       "56943   True  56943  False\n",
       "\n",
       "[56944 rows x 3 columns]"
      ]
     },
     "execution_count": 9,
     "metadata": {},
     "output_type": "execute_result"
    }
   ],
   "source": [
    "# node IDs\n",
    "g_nodes"
   ]
  },
  {
   "cell_type": "markdown",
   "id": "6d3d486b",
   "metadata": {},
   "source": [
    "## Links"
   ]
  },
  {
   "cell_type": "code",
   "execution_count": 10,
   "id": "17b5eb9a",
   "metadata": {
    "ExecuteTime": {
     "end_time": "2023-07-03T18:21:48.701963Z",
     "start_time": "2023-07-03T18:21:48.352177Z"
    }
   },
   "outputs": [],
   "source": [
    "links = pd.DataFrame(g['links'])"
   ]
  },
  {
   "cell_type": "code",
   "execution_count": 11,
   "id": "24aef0e1",
   "metadata": {
    "ExecuteTime": {
     "end_time": "2023-07-03T18:21:48.709870Z",
     "start_time": "2023-07-03T18:21:48.703952Z"
    }
   },
   "outputs": [
    {
     "data": {
      "text/html": [
       "<div>\n",
       "<style scoped>\n",
       "    .dataframe tbody tr th:only-of-type {\n",
       "        vertical-align: middle;\n",
       "    }\n",
       "\n",
       "    .dataframe tbody tr th {\n",
       "        vertical-align: top;\n",
       "    }\n",
       "\n",
       "    .dataframe thead th {\n",
       "        text-align: right;\n",
       "    }\n",
       "</style>\n",
       "<table border=\"1\" class=\"dataframe\">\n",
       "  <thead>\n",
       "    <tr style=\"text-align: right;\">\n",
       "      <th></th>\n",
       "      <th>source</th>\n",
       "      <th>target</th>\n",
       "    </tr>\n",
       "  </thead>\n",
       "  <tbody>\n",
       "    <tr>\n",
       "      <th>0</th>\n",
       "      <td>0</td>\n",
       "      <td>372</td>\n",
       "    </tr>\n",
       "    <tr>\n",
       "      <th>1</th>\n",
       "      <td>0</td>\n",
       "      <td>1101</td>\n",
       "    </tr>\n",
       "    <tr>\n",
       "      <th>2</th>\n",
       "      <td>0</td>\n",
       "      <td>766</td>\n",
       "    </tr>\n",
       "    <tr>\n",
       "      <th>3</th>\n",
       "      <td>1</td>\n",
       "      <td>640</td>\n",
       "    </tr>\n",
       "    <tr>\n",
       "      <th>4</th>\n",
       "      <td>1</td>\n",
       "      <td>1</td>\n",
       "    </tr>\n",
       "    <tr>\n",
       "      <th>...</th>\n",
       "      <td>...</td>\n",
       "      <td>...</td>\n",
       "    </tr>\n",
       "    <tr>\n",
       "      <th>818711</th>\n",
       "      <td>56927</td>\n",
       "      <td>56927</td>\n",
       "    </tr>\n",
       "    <tr>\n",
       "      <th>818712</th>\n",
       "      <td>56928</td>\n",
       "      <td>56928</td>\n",
       "    </tr>\n",
       "    <tr>\n",
       "      <th>818713</th>\n",
       "      <td>56930</td>\n",
       "      <td>56930</td>\n",
       "    </tr>\n",
       "    <tr>\n",
       "      <th>818714</th>\n",
       "      <td>56935</td>\n",
       "      <td>56935</td>\n",
       "    </tr>\n",
       "    <tr>\n",
       "      <th>818715</th>\n",
       "      <td>56939</td>\n",
       "      <td>56939</td>\n",
       "    </tr>\n",
       "  </tbody>\n",
       "</table>\n",
       "<p>818716 rows × 2 columns</p>\n",
       "</div>"
      ],
      "text/plain": [
       "        source  target\n",
       "0            0     372\n",
       "1            0    1101\n",
       "2            0     766\n",
       "3            1     640\n",
       "4            1       1\n",
       "...        ...     ...\n",
       "818711   56927   56927\n",
       "818712   56928   56928\n",
       "818713   56930   56930\n",
       "818714   56935   56935\n",
       "818715   56939   56939\n",
       "\n",
       "[818716 rows x 2 columns]"
      ]
     },
     "execution_count": 11,
     "metadata": {},
     "output_type": "execute_result"
    }
   ],
   "source": [
    "links"
   ]
  },
  {
   "cell_type": "code",
   "execution_count": 12,
   "id": "2d86fff1",
   "metadata": {
    "ExecuteTime": {
     "end_time": "2023-07-03T18:21:48.849559Z",
     "start_time": "2023-07-03T18:21:48.711031Z"
    }
   },
   "outputs": [
    {
     "data": {
      "text/plain": [
       "<Axes: >"
      ]
     },
     "execution_count": 12,
     "metadata": {},
     "output_type": "execute_result"
    },
    {
     "data": {
      "image/png": "[encoded data removed]",
      "text/plain": [
       "<Figure size 640x480 with 1 Axes>"
      ]
     },
     "metadata": {},
     "output_type": "display_data"
    }
   ],
   "source": [
    "links.groupby('source').count()['target'].hist(bins=50)\n",
    "# number of edges per node"
   ]
  },
  {
   "cell_type": "markdown",
   "id": "9367404b",
   "metadata": {},
   "source": [
    "## Node Features"
   ]
  },
  {
   "cell_type": "code",
   "execution_count": 13,
   "id": "29caf5c8",
   "metadata": {
    "ExecuteTime": {
     "end_time": "2023-07-03T18:21:48.861319Z",
     "start_time": "2023-07-03T18:21:48.851052Z"
    }
   },
   "outputs": [],
   "source": [
    "feats_df = pd.DataFrame(np.load('ppi/ppi-feats.npy'))"
   ]
  },
  {
   "cell_type": "code",
   "execution_count": 14,
   "id": "29b725e5",
   "metadata": {
    "ExecuteTime": {
     "end_time": "2023-07-03T18:21:48.872901Z",
     "start_time": "2023-07-03T18:21:48.862116Z"
    },
    "scrolled": true
   },
   "outputs": [
    {
     "data": {
      "text/html": [
       "<div>\n",
       "<style scoped>\n",
       "    .dataframe tbody tr th:only-of-type {\n",
       "        vertical-align: middle;\n",
       "    }\n",
       "\n",
       "    .dataframe tbody tr th {\n",
       "        vertical-align: top;\n",
       "    }\n",
       "\n",
       "    .dataframe thead th {\n",
       "        text-align: right;\n",
       "    }\n",
       "</style>\n",
       "<table border=\"1\" class=\"dataframe\">\n",
       "  <thead>\n",
       "    <tr style=\"text-align: right;\">\n",
       "      <th></th>\n",
       "      <th>0</th>\n",
       "      <th>1</th>\n",
       "      <th>2</th>\n",
       "      <th>3</th>\n",
       "      <th>4</th>\n",
       "      <th>5</th>\n",
       "      <th>6</th>\n",
       "      <th>7</th>\n",
       "      <th>8</th>\n",
       "      <th>9</th>\n",
       "      <th>...</th>\n",
       "      <th>40</th>\n",
       "      <th>41</th>\n",
       "      <th>42</th>\n",
       "      <th>43</th>\n",
       "      <th>44</th>\n",
       "      <th>45</th>\n",
       "      <th>46</th>\n",
       "      <th>47</th>\n",
       "      <th>48</th>\n",
       "      <th>49</th>\n",
       "    </tr>\n",
       "  </thead>\n",
       "  <tbody>\n",
       "    <tr>\n",
       "      <th>0</th>\n",
       "      <td>0.0</td>\n",
       "      <td>0.0</td>\n",
       "      <td>0.0</td>\n",
       "      <td>0.0</td>\n",
       "      <td>0.0</td>\n",
       "      <td>0.0</td>\n",
       "      <td>0.0</td>\n",
       "      <td>0.0</td>\n",
       "      <td>0.0</td>\n",
       "      <td>0.0</td>\n",
       "      <td>...</td>\n",
       "      <td>0.0</td>\n",
       "      <td>0.0</td>\n",
       "      <td>0.0</td>\n",
       "      <td>0.0</td>\n",
       "      <td>0.0</td>\n",
       "      <td>0.0</td>\n",
       "      <td>0.0</td>\n",
       "      <td>0.0</td>\n",
       "      <td>0.0</td>\n",
       "      <td>0.0</td>\n",
       "    </tr>\n",
       "    <tr>\n",
       "      <th>1</th>\n",
       "      <td>0.0</td>\n",
       "      <td>0.0</td>\n",
       "      <td>0.0</td>\n",
       "      <td>0.0</td>\n",
       "      <td>0.0</td>\n",
       "      <td>0.0</td>\n",
       "      <td>0.0</td>\n",
       "      <td>0.0</td>\n",
       "      <td>0.0</td>\n",
       "      <td>0.0</td>\n",
       "      <td>...</td>\n",
       "      <td>0.0</td>\n",
       "      <td>0.0</td>\n",
       "      <td>0.0</td>\n",
       "      <td>0.0</td>\n",
       "      <td>0.0</td>\n",
       "      <td>0.0</td>\n",
       "      <td>0.0</td>\n",
       "      <td>0.0</td>\n",
       "      <td>0.0</td>\n",
       "      <td>0.0</td>\n",
       "    </tr>\n",
       "    <tr>\n",
       "      <th>2</th>\n",
       "      <td>0.0</td>\n",
       "      <td>0.0</td>\n",
       "      <td>0.0</td>\n",
       "      <td>0.0</td>\n",
       "      <td>0.0</td>\n",
       "      <td>0.0</td>\n",
       "      <td>0.0</td>\n",
       "      <td>0.0</td>\n",
       "      <td>0.0</td>\n",
       "      <td>0.0</td>\n",
       "      <td>...</td>\n",
       "      <td>0.0</td>\n",
       "      <td>0.0</td>\n",
       "      <td>0.0</td>\n",
       "      <td>0.0</td>\n",
       "      <td>0.0</td>\n",
       "      <td>0.0</td>\n",
       "      <td>0.0</td>\n",
       "      <td>0.0</td>\n",
       "      <td>0.0</td>\n",
       "      <td>0.0</td>\n",
       "    </tr>\n",
       "    <tr>\n",
       "      <th>3</th>\n",
       "      <td>0.0</td>\n",
       "      <td>0.0</td>\n",
       "      <td>0.0</td>\n",
       "      <td>0.0</td>\n",
       "      <td>0.0</td>\n",
       "      <td>0.0</td>\n",
       "      <td>0.0</td>\n",
       "      <td>0.0</td>\n",
       "      <td>0.0</td>\n",
       "      <td>0.0</td>\n",
       "      <td>...</td>\n",
       "      <td>0.0</td>\n",
       "      <td>0.0</td>\n",
       "      <td>0.0</td>\n",
       "      <td>0.0</td>\n",
       "      <td>0.0</td>\n",
       "      <td>0.0</td>\n",
       "      <td>0.0</td>\n",
       "      <td>0.0</td>\n",
       "      <td>0.0</td>\n",
       "      <td>0.0</td>\n",
       "    </tr>\n",
       "    <tr>\n",
       "      <th>4</th>\n",
       "      <td>0.0</td>\n",
       "      <td>0.0</td>\n",
       "      <td>0.0</td>\n",
       "      <td>0.0</td>\n",
       "      <td>0.0</td>\n",
       "      <td>0.0</td>\n",
       "      <td>0.0</td>\n",
       "      <td>0.0</td>\n",
       "      <td>0.0</td>\n",
       "      <td>0.0</td>\n",
       "      <td>...</td>\n",
       "      <td>0.0</td>\n",
       "      <td>0.0</td>\n",
       "      <td>0.0</td>\n",
       "      <td>0.0</td>\n",
       "      <td>0.0</td>\n",
       "      <td>0.0</td>\n",
       "      <td>0.0</td>\n",
       "      <td>1.0</td>\n",
       "      <td>0.0</td>\n",
       "      <td>0.0</td>\n",
       "    </tr>\n",
       "  </tbody>\n",
       "</table>\n",
       "<p>5 rows × 50 columns</p>\n",
       "</div>"
      ],
      "text/plain": [
       "    0    1    2    3    4    5    6    7    8    9   ...   40   41   42   43  \\\n",
       "0  0.0  0.0  0.0  0.0  0.0  0.0  0.0  0.0  0.0  0.0  ...  0.0  0.0  0.0  0.0   \n",
       "1  0.0  0.0  0.0  0.0  0.0  0.0  0.0  0.0  0.0  0.0  ...  0.0  0.0  0.0  0.0   \n",
       "2  0.0  0.0  0.0  0.0  0.0  0.0  0.0  0.0  0.0  0.0  ...  0.0  0.0  0.0  0.0   \n",
       "3  0.0  0.0  0.0  0.0  0.0  0.0  0.0  0.0  0.0  0.0  ...  0.0  0.0  0.0  0.0   \n",
       "4  0.0  0.0  0.0  0.0  0.0  0.0  0.0  0.0  0.0  0.0  ...  0.0  0.0  0.0  0.0   \n",
       "\n",
       "    44   45   46   47   48   49  \n",
       "0  0.0  0.0  0.0  0.0  0.0  0.0  \n",
       "1  0.0  0.0  0.0  0.0  0.0  0.0  \n",
       "2  0.0  0.0  0.0  0.0  0.0  0.0  \n",
       "3  0.0  0.0  0.0  0.0  0.0  0.0  \n",
       "4  0.0  0.0  0.0  1.0  0.0  0.0  \n",
       "\n",
       "[5 rows x 50 columns]"
      ]
     },
     "execution_count": 14,
     "metadata": {},
     "output_type": "execute_result"
    }
   ],
   "source": [
    "feats_df.head()"
   ]
  },
  {
   "cell_type": "markdown",
   "id": "d46aa6e5",
   "metadata": {},
   "source": [
    "## Individual Graphs"
   ]
  },
  {
   "cell_type": "code",
   "execution_count": 15,
   "id": "5630b5ef",
   "metadata": {
    "ExecuteTime": {
     "end_time": "2023-07-03T18:21:48.879325Z",
     "start_time": "2023-07-03T18:21:48.877193Z"
    }
   },
   "outputs": [],
   "source": [
    "# !pip install networkx"
   ]
  },
  {
   "cell_type": "code",
   "execution_count": 16,
   "id": "48ab4f3d",
   "metadata": {
    "ExecuteTime": {
     "end_time": "2023-07-03T18:21:49.865369Z",
     "start_time": "2023-07-03T18:21:48.880604Z"
    }
   },
   "outputs": [],
   "source": [
    "# creating graph in NX\n",
    "lls = links[['source', 'target']].to_numpy()\n",
    "gr = nx.Graph()\n",
    "gr.add_edges_from(lls)\n",
    "d = list(nx.connected_components(gr)) # this gets the disconnected subgraphs as a list of sets of node IDs"
   ]
  },
  {
   "cell_type": "code",
   "execution_count": 17,
   "id": "425e2792",
   "metadata": {
    "ExecuteTime": {
     "end_time": "2023-07-03T18:21:49.868356Z",
     "start_time": "2023-07-03T18:21:49.866275Z"
    }
   },
   "outputs": [
    {
     "data": {
      "text/plain": [
       "295"
      ]
     },
     "execution_count": 17,
     "metadata": {},
     "output_type": "execute_result"
    }
   ],
   "source": [
    "len(d)"
   ]
  },
  {
   "cell_type": "code",
   "execution_count": 18,
   "id": "aa91e6fa",
   "metadata": {
    "ExecuteTime": {
     "end_time": "2023-07-03T18:21:49.871964Z",
     "start_time": "2023-07-03T18:21:49.869149Z"
    }
   },
   "outputs": [],
   "source": [
    "gs = []\n",
    "for i in range(295):\n",
    "    if len(d[i])>2:\n",
    "        gs.append(d[i])"
   ]
  },
  {
   "cell_type": "code",
   "execution_count": 19,
   "id": "8dd76785",
   "metadata": {
    "ExecuteTime": {
     "end_time": "2023-07-03T18:21:49.874694Z",
     "start_time": "2023-07-03T18:21:49.872828Z"
    }
   },
   "outputs": [
    {
     "data": {
      "text/plain": [
       "24"
      ]
     },
     "execution_count": 19,
     "metadata": {},
     "output_type": "execute_result"
    }
   ],
   "source": [
    "len(gs)"
   ]
  },
  {
   "cell_type": "code",
   "execution_count": 20,
   "id": "1ed2b700",
   "metadata": {
    "ExecuteTime": {
     "end_time": "2023-07-03T18:21:49.877238Z",
     "start_time": "2023-07-03T18:21:49.875387Z"
    }
   },
   "outputs": [
    {
     "name": "stdout",
     "output_type": "stream",
     "text": [
      "[1546, 1377, 2263, 2339, 1578, 1021, 1823, 2488, 591, 3312, 2401, 1878, 1819, 3480, 2794, 2326, 2650, 2815, 3163, 3021, 3195, 3284, 3194, 2300]\n"
     ]
    }
   ],
   "source": [
    "print([len(g) for g in gs])"
   ]
  },
  {
   "cell_type": "code",
   "execution_count": 21,
   "id": "6f69dfd5",
   "metadata": {
    "ExecuteTime": {
     "end_time": "2023-07-03T18:21:50.561828Z",
     "start_time": "2023-07-03T18:21:49.878187Z"
    }
   },
   "outputs": [],
   "source": [
    "for i in gs[-2]: # testing to see if any nodes from a specific set is in the test/val set\n",
    "    if i not in g_nodes[g_nodes.test==True].id:\n",
    "        print('no')"
   ]
  },
  {
   "cell_type": "code",
   "execution_count": null,
   "id": "49559dbc",
   "metadata": {},
   "outputs": [],
   "source": []
  }
 ],
 "metadata": {
  "kernelspec": {
   "display_name": "Python 3 (ipykernel)",
   "language": "python",
   "name": "python3"
  },
  "language_info": {
   "codemirror_mode": {
    "name": "ipython",
    "version": 3
   },
   "file_extension": ".py",
   "mimetype": "text/x-python",
   "name": "python",
   "nbconvert_exporter": "python",
   "pygments_lexer": "ipython3",
   "version": "3.9.16"
  },
  "toc": {
   "base_numbering": 1,
   "nav_menu": {},
   "number_sections": true,
   "sideBar": true,
   "skip_h1_title": false,
   "title_cell": "Table of Contents",
   "title_sidebar": "Contents",
   "toc_cell": false,
   "toc_position": {},
   "toc_section_display": true,
   "toc_window_display": false
  }
 },
 "nbformat": 4,
 "nbformat_minor": 5
}
